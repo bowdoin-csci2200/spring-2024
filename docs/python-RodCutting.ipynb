{
 "cells": [
  {
   "cell_type": "markdown",
   "metadata": {},
   "source": [
    "**Credit:** Laura Toma,  last 3/31/2023 "
   ]
  },
  {
   "cell_type": "markdown",
   "metadata": {},
   "source": [
    "## Dynamic programming: The rod cutting problem"
   ]
  },
  {
   "cell_type": "markdown",
   "metadata": {},
   "source": [
    "Consider the rod cutting problem as discussed in class:  We are given a long steel rod and we need to cut it into smaller pieces which we then sell.  Making a cut is free, and the rod lengths  are always integers.  Assume we are given a table with sale prices: for each i=1, 2, 3, ..., n,   p[i] is the sale price for a rod of length i. \n",
    "\n",
    "Goal: Given a rod of length n and a price table p[], determine the maximal revenue obtainable by cutting up the rod and selling the pieces. "
   ]
  },
  {
   "cell_type": "markdown",
   "metadata": {},
   "source": [
    "For examples, consider the case when:  n=10 and  p = [0, 1, 5, 8, 9, 19, 17, 17, 20, 24, 30]"
   ]
  },
  {
   "cell_type": "code",
   "execution_count": 88,
   "metadata": {},
   "outputs": [],
   "source": [
    "price = [0,1,5,8,9,19,17,17,20,24,30]"
   ]
  },
  {
   "cell_type": "markdown",
   "metadata": {},
   "source": [
    "\n",
    "### Recursive definiton "
   ]
  },
  {
   "cell_type": "markdown",
   "metadata": {},
   "source": [
    "Let maxrev(x) denote the maximal revenue obtainable from a rod of length x. \n"
   ]
  },
  {
   "cell_type": "code",
   "execution_count": 89,
   "metadata": {},
   "outputs": [],
   "source": [
    "# PARAMETER x: length of rod\n",
    "# PARAMETER price:  price array\n",
    "# RETURN:  the maximal revenue obtainable by cutting the rod of length x\n",
    "def maxrev(x, price): \n",
    "    # basecase\n",
    "    if x==0: return price[0]\n",
    "       \n",
    "    #initialize table rev[] that will store all options \n",
    "    choice=[0 for i in range(x+1)]\n",
    "    \n",
    "    for i in range(1, x+1): \n",
    "        #make first cut at distance i \n",
    "        choice[i] = price[i] + maxrev(x-i, price)\n",
    "    \n",
    "    return max(choice)\n"
   ]
  },
  {
   "cell_type": "markdown",
   "metadata": {},
   "source": [
    "Let's do a sanity check: "
   ]
  },
  {
   "cell_type": "code",
   "execution_count": 90,
   "metadata": {},
   "outputs": [
    {
     "data": {
      "text/plain": [
       "10"
      ]
     },
     "execution_count": 90,
     "metadata": {},
     "output_type": "execute_result"
    }
   ],
   "source": [
    "maxrev(i, price)\n"
   ]
  },
  {
   "cell_type": "markdown",
   "metadata": {},
   "source": [
    "We have shown that  the running time of maxrev(n) as written above is exponential.  "
   ]
  },
  {
   "cell_type": "markdown",
   "metadata": {},
   "source": [
    "## DP: Recursive (top-down) solution  with memo-ization  "
   ]
  },
  {
   "cell_type": "code",
   "execution_count": 91,
   "metadata": {},
   "outputs": [],
   "source": [
    "# PARAMETER price: an array of prices\n",
    "# PARAMETER x: rod length \n",
    "# RETURN:  the maximal revenue obtainable from a rod of length x \n",
    "def maxrevDP_memoization(x, price): \n",
    "    #create and initialize an array to store solutions to subproblems \n",
    "    n = len(price)\n",
    "    INITIAL_VALUE = 0\n",
    "    table = [ INITIAL_VALUE for i in range(n)]    \n",
    "    return maxrevDP(x, price, table, INITIAL_VALUE)\n",
    "\n",
    "\n",
    "\n",
    "# PARAMETER x:  rod length \n",
    "# PARAMETER price:  array of prices\n",
    "# PARAMETER table: array of partial solutions \n",
    "# RETURN:  the maximal value obtainable by cutting a rod of length x\n",
    "def maxrevDP(x, price, table, INITIAL_VALUE): \n",
    "    \n",
    "    # basecase \n",
    "    if x==0: return price[0]   \n",
    "        \n",
    "    #if this has already been computed, retrieve it \n",
    "    if table[x] != INITIAL_VALUE: \n",
    "        #print(\"got it from the table\")\n",
    "        return table[x]\n",
    "    \n",
    "    # else: this is the first call to this subproblem. Solve it and store it \n",
    "    choice=[0 for i in range(x+1)]\n",
    "    for i in range(1, x+1): \n",
    "        #make first cut at distance i\n",
    "        choice[i] = price[i] + maxrevDP(x-i, price, table, INITIAL_VALUE)\n",
    "        \n",
    "    table[x] = max(choice)\n",
    "    return table[x]\n",
    "\n",
    "    "
   ]
  },
  {
   "cell_type": "code",
   "execution_count": 92,
   "metadata": {},
   "outputs": [
    {
     "data": {
      "text/plain": [
       "10"
      ]
     },
     "execution_count": 92,
     "metadata": {},
     "output_type": "execute_result"
    }
   ],
   "source": [
    "maxrevDP_memoization(10, p)"
   ]
  },
  {
   "cell_type": "markdown",
   "metadata": {},
   "source": [
    "For this particular case, how many times is an entry retrieved from the table? "
   ]
  },
  {
   "cell_type": "markdown",
   "metadata": {},
   "source": [
    "\n",
    "### DP: Iterative (bottom-up) solution \n"
   ]
  },
  {
   "cell_type": "code",
   "execution_count": 93,
   "metadata": {},
   "outputs": [],
   "source": [
    "# PARAMETER price: an array of prices\n",
    "# PARAMETER n: length of rod, n < len(price)\n",
    "# RETURN: the maximal revenue obtainable by cutting the rod \n",
    "def maxrevDP_iterative(n, price): \n",
    "    #create and initialize an array to store solutions to subproblems \n",
    "    INITIAL_VALUE = 0 \n",
    "    table = [ INITIAL_VALUE for i in range(n+1)]\n",
    "\n",
    "    # table[0] = 0\n",
    "    for x in range(1, n+1):\n",
    "        # compute maxrev(x) and store it in table[x]\n",
    "        choice=[0 for i in range(x+1)]\n",
    "        for i in range(1, x+1): \n",
    "            #make first cut at distance i\n",
    "            choice[i] = price[i] + table[x-i]\n",
    "        table[x] = max(choice)\n",
    "   \n",
    "    # we can print the table \n",
    "    # print(\"the table:\")\n",
    "    # for i in range(n+1): print(table[i], \" \")\n",
    "    return table[n]\n"
   ]
  },
  {
   "cell_type": "code",
   "execution_count": 94,
   "metadata": {},
   "outputs": [
    {
     "data": {
      "text/plain": [
       "38"
      ]
     },
     "execution_count": 94,
     "metadata": {},
     "output_type": "execute_result"
    }
   ],
   "source": [
    " maxrevDP_iterative(10, price)"
   ]
  },
  {
   "cell_type": "markdown",
   "metadata": {},
   "source": [
    "## Empirical evaluation"
   ]
  },
  {
   "cell_type": "code",
   "execution_count": 95,
   "metadata": {},
   "outputs": [],
   "source": [
    "# set up matplotlib, for plotting stuff.\n",
    "%matplotlib inline\n",
    "import matplotlib\n",
    "import numpy as np\n",
    "import matplotlib.pyplot as plt"
   ]
  },
  {
   "cell_type": "code",
   "execution_count": 96,
   "metadata": {},
   "outputs": [],
   "source": [
    "import time\n",
    "from random import choice\n",
    "\n",
    "# runIt: runs myFun function numTrials and times how long it takes on the average.\n",
    "#\n",
    "# Input: myFn: a function which takes as input an  integer and an array \n",
    "#        n: myFun is run on 1, 2, 3, ..., n\n",
    "#       \n",
    "# Returns: nValues, tValues, where running myFun with argument nValues[i] took  tValues[i] milliseconds.\n",
    "#\n",
    "def runIt(myFun, n, price, numTrials=10):\n",
    "    nValues = []\n",
    "    tValues = []\n",
    "    for k in range(n):\n",
    "        # run myFn several times and average to get a decent idea.\n",
    "        runtime=0\n",
    "        for i in range(numTrials):\n",
    "            start = time.time()\n",
    "            myFun(k, price)\n",
    "            end = time.time()\n",
    "            runtime += (end - start) * 1000 # measure in milliseconds\n",
    "        \n",
    "        runtime /= numTrials\n",
    "        nValues.append(k)\n",
    "        tValues.append(runtime)\n",
    "    return nValues, tValues\n",
    "\n"
   ]
  },
  {
   "cell_type": "markdown",
   "metadata": {},
   "source": [
    " \n"
   ]
  },
  {
   "cell_type": "code",
   "execution_count": 97,
   "metadata": {},
   "outputs": [
    {
     "data": {
      "text/plain": [
       "Text(0.5, 1.0, 'Rod cutting numbers')"
      ]
     },
     "execution_count": 97,
     "metadata": {},
     "output_type": "execute_result"
    },
    {
     "data": {
      "image/png": "[encoded data removed]",
      "text/plain": [
       "<Figure size 640x480 with 1 Axes>"
      ]
     },
     "metadata": {},
     "output_type": "display_data"
    }
   ],
   "source": [
    "##some prices\n",
    "p = [i for i in range(1000)]\n",
    "\n",
    "# run maxrev without DP. Careful to put a small value of n, because for large values it takes forever\n",
    "nValues, tValues = runIt(maxrev, 15, p, 5)\n",
    "\n",
    "#run maxrevDP_topdown \n",
    "nValuesDP1, tValuesDP1 = runIt(maxrevDP_memoization, 200, p)\n",
    "\n",
    "#run maxrevDP_bottomup\n",
    "nValuesDP2, tValuesDP2 = runIt(maxrevDP_iterative, 200, p)\n",
    "\n",
    "#plot the running times  \n",
    "plt.plot(nValues, tValues, color=\"red\", label=\"Maxrev without DP\")\n",
    "plt.plot(nValuesDP1, tValuesDP1, color=\"blue\", label=\"MaxrevDP: recursive\")\n",
    "plt.plot(nValuesDP2, tValuesDP2, color=\"yellow\", label=\"MaxrevDP: iterative\")\n",
    "\n",
    "\n",
    "plt.xlabel(\"n\")\n",
    "plt.ylabel(\"Time(ms)\")\n",
    "plt.legend()\n",
    "plt.title(\"Rod cutting numbers\")\n"
   ]
  },
  {
   "cell_type": "markdown",
   "metadata": {},
   "source": [
    "\n",
    "Conclusion? \n"
   ]
  },
  {
   "cell_type": "markdown",
   "metadata": {},
   "source": [
    "## Finding the full solution"
   ]
  },
  {
   "cell_type": "markdown",
   "metadata": {},
   "source": [
    "Finally, we want to extend the solution above in order to compute the actual set of cuts  corresponding to the maximum revenue. \n",
    "\n",
    "In general we can choose to extend either the top-down or the bottom-up solution. \n",
    "\n",
    "\n",
    "The code below is supposed to extend the MEMO-IZED solution.  AT the moment it's a copy of maxrevDP_memoization method above, but after it finds and prints the max revenue, it calls a function find_cuts() which is supposed to print the cuts corresponding to table[n].  Fill so that you can see the set of cuts.  "
   ]
  },
  {
   "cell_type": "code",
   "execution_count": 98,
   "metadata": {},
   "outputs": [],
   "source": [
    "# PARAMETER price: an array of prices\n",
    "# PARAMETER x: rod length \n",
    "# RETURN:  the maximal revenue obtainable from a rod of length x and prints the corresponding set of cuts\n",
    "def maxrevDP_memoization_fullsolution(x, price): \n",
    "    #create and initialize an array to store solutions to subproblems \n",
    "    n = len(price)\n",
    "    INITIAL_VALUE = 0\n",
    "    table = [ INITIAL_VALUE for i in range(n)]    \n",
    "    rev = maxrevDP_fullsolution(x, price, table, INITIAL_VALUE)\n",
    "    print(\"the max rev is \", rev)\n",
    "\n",
    "    #print the set of cuts corresponding to the max. revenue \n",
    "    print(\"the cuts are:\")\n",
    "    find_cuts(x, table)\n",
    "    \n",
    "    \n",
    "\n",
    "# PARAMETER x:  rod length \n",
    "# PARAMETER price:  array of prices\n",
    "# PARAMETER table: array of partial solutions \n",
    "# RETURN:  the maximal value obtainable by cutting a rod of length x\n",
    "def maxrevDP_fullsolution(x, price, table, INITIAL_VALUE): \n",
    "    \n",
    "    # basecase \n",
    "    if x==0: return price[0]   \n",
    "        \n",
    "    #if this has already been computed, retrieve it \n",
    "    if table[x] != INITIAL_VALUE: \n",
    "        #print(\"got it from the table\")\n",
    "        return table[x]\n",
    "    \n",
    "    # else: this is the first call to this subproblem. Solve it and store it \n",
    "    choice=[0 for i in range(x+1)]\n",
    "    for i in range(1, x+1): \n",
    "        #make first cut at distance i\n",
    "        choice[i] = price[i] + maxrevDP(x-i, price, table, INITIAL_VALUE)\n",
    "        \n",
    "    table[x] = max(choice)\n",
    "    return table[x]\n",
    "\n",
    "\n",
    "## print the set of cuts corresponding to optimal rev for a rod of length x   \n",
    "def find_cuts(x, table):\n",
    "    #add your code here \n",
    "   \n",
    "    return 0; \n",
    "    "
   ]
  },
  {
   "cell_type": "code",
   "execution_count": 99,
   "metadata": {},
   "outputs": [
    {
     "name": "stdout",
     "output_type": "stream",
     "text": [
      "the max rev is  38\n",
      "the cuts are:\n"
     ]
    }
   ],
   "source": [
    "maxrevDP_memoization_fullsolution(10, price)"
   ]
  },
  {
   "cell_type": "code",
   "execution_count": null,
   "metadata": {},
   "outputs": [],
   "source": []
  },
  {
   "cell_type": "code",
   "execution_count": null,
   "metadata": {},
   "outputs": [],
   "source": []
  }
 ],
 "metadata": {
  "kernelspec": {
   "display_name": "Python 3 (ipykernel)",
   "language": "python",
   "name": "python3"
  },
  "language_info": {
   "codemirror_mode": {
    "name": "ipython",
    "version": 3
   },
   "file_extension": ".py",
   "mimetype": "text/x-python",
   "name": "python",
   "nbconvert_exporter": "python",
   "pygments_lexer": "ipython3",
   "version": "3.8.9"
  }
 },
 "nbformat": 4,
 "nbformat_minor": 4
}
