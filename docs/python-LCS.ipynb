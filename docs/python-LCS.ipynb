{
 "cells": [
  {
   "cell_type": "markdown",
   "metadata": {},
   "source": [
    "## Longest common subsequence (LCS)"
   ]
  },
  {
   "cell_type": "markdown",
   "metadata": {},
   "source": [
    "Biological applications work with DNA sequences. A strand of DNA consists of a string of molecules which are one of four possible bases: adenine (A), guanine (G), cytosine (C) and thymine (T). Thus DNA sequences can be expressed as arrays or strings over four symbols, A,C,G,T. Biologists want to compare how “close” are two DNA strands, and one way to model closeness is to compute the longest common subsequence of two DNA strands. We’d like to come up with an algorithm to do this.\n"
   ]
  },
  {
   "cell_type": "markdown",
   "metadata": {},
   "source": [
    "**The LCS problem:** \n",
    "\n",
    "Suppose we have two sequences (arrays) X[1..n] and Y [1..m], where each of X[i],Y[i] are one of the four bases A,C,G,T.\n",
    "\n",
    "• We say that another sequence Z[1..k] is a subsequence of X if there exists a strictly increasing sequence of indices i1,i2,i3,...,ik such that we have X[i1] = Z[1],X[i2] = Z[2],...,X[ik] = Z[k].\n",
    "\n",
    "• We say that Z is a common subsequence (of X,Y) if Z is a subsequence of both X and Y. \n",
    "\n",
    "Given two sequences X and Y of size n and m respectively, come up with an algorithm that finds their longest common subsequence (LCS).\n",
    "\n",
    "Example: Let X = [A,B,C,B,D,A,B], Y = [B,D,C,A,B,A].\n",
    "\n"
   ]
  },
  {
   "cell_type": "markdown",
   "metadata": {},
   "source": [
    "Let X<sub>i</sub> denote the sequence consisting of the first i elements of X (also called the i-prefix of X). "
   ]
  },
  {
   "cell_type": "markdown",
   "metadata": {},
   "source": [
    "**Notation and choice of sub-problem:**\n",
    "\n",
    "Let c(i,j) denote the length of the LCS of X<sub>i</sub> and Y<sub>j</sub>"
   ]
  },
  {
   "cell_type": "markdown",
   "metadata": {},
   "source": [
    "**Recursive formulation:**\n",
    "\n",
    "c(0, j) = 0\n",
    "\n",
    "c(i, 0) = 0\n",
    "\n",
    "if X[i]== Y[j]: c(i, j) = 1 + c(i-1, j-1) \n",
    "\n",
    "else:  c(i,j) = max {c(i-1, j), c(i, j-1)} \n"
   ]
  },
  {
   "cell_type": "code",
   "execution_count": 11,
   "metadata": {},
   "outputs": [],
   "source": [
    "#returns the length of the LCS of X_i and Y_j\n",
    "def lcs(X, Y, i, j): \n",
    "    if i==-1 or j==-1: \n",
    "        return 0\n",
    "   \n",
    "    if (X[i] == Y[j]): \n",
    "        return 1 + lcs(X, Y, i-1, j-1)\n",
    "    \n",
    "    return max(lcs(X,Y,i-1,j), lcs(X,Y,i,j-1))\n",
    "    "
   ]
  },
  {
   "cell_type": "markdown",
   "metadata": {},
   "source": [
    "Let's do a sanity check: "
   ]
  },
  {
   "cell_type": "code",
   "execution_count": 12,
   "metadata": {
    "collapsed": true,
    "jupyter": {
     "outputs_hidden": true
    }
   },
   "outputs": [
    {
     "data": {
      "text/plain": [
       "2"
      ]
     },
     "execution_count": 12,
     "metadata": {},
     "output_type": "execute_result"
    }
   ],
   "source": [
    "X = ['a', 'b'] \n",
    "Y=['a', 'b']\n",
    "lcs(X,Y,1,1)"
   ]
  },
  {
   "cell_type": "code",
   "execution_count": 14,
   "metadata": {},
   "outputs": [
    {
     "data": {
      "text/plain": [
       "4"
      ]
     },
     "execution_count": 14,
     "metadata": {},
     "output_type": "execute_result"
    }
   ],
   "source": [
    "X=['A','B','C','B','D','A','B']\n",
    "Y = ['B','D','C','A','B','A']\n",
    "lcs(X, Y, len(X)-1, len(Y)-1)"
   ]
  },
  {
   "cell_type": "markdown",
   "metadata": {},
   "source": [
    "**Adding dynamic programming:**\n",
    "    "
   ]
  },
  {
   "cell_type": "code",
   "execution_count": 47,
   "metadata": {},
   "outputs": [],
   "source": [
    "#returns the length of the LCS of X_i and Y_j\n",
    "def lcsDP(X, Y): \n",
    "    #initialize a table table[n][m]=0, for all i=0,n, j=0,m\n",
    "    table = []\n",
    "    for i in range(len(X)):\n",
    "        row = []           \n",
    "        for j in range(len(Y)):\n",
    "            row.append(0)\n",
    "        table.append(row)\n",
    "\n",
    "    answer = lcsDPhelper(X, Y, len(X)-1, len(Y)-1, table)\n",
    "    printTable(table)\n",
    "    return answer\n",
    "\n",
    "def lcsDPhelper(X, Y, i, j, table): \n",
    "    if i==-1 or j==-1: \n",
    "        return 0\n",
    "    if table[i][j] != 0: \n",
    "        return table[i][j]\n",
    "                   \n",
    "    if (X[i] == Y[j]): \n",
    "        answer= 1 + lcsDPhelper(X, Y, i-1, j-1,table)\n",
    "    \n",
    "    else: \n",
    "        answer = max(lcsDPhelper(X,Y,i-1,j,table), lcsDPhelper(X,Y,i,j-1,table))\n",
    "    table[i][j]=answer\n",
    "    return answer\n",
    "\n",
    "def printTable(table): \n",
    "    print(\"the table is:\")\n",
    "    for i in range(len(table)):\n",
    "        print(table[i])\n",
    "    "
   ]
  },
  {
   "cell_type": "markdown",
   "metadata": {},
   "source": [
    "Sanity check:"
   ]
  },
  {
   "cell_type": "code",
   "execution_count": 48,
   "metadata": {},
   "outputs": [
    {
     "name": "stdout",
     "output_type": "stream",
     "text": [
      "the table is:\n",
      "[1, 0]\n",
      "[0, 2]\n"
     ]
    },
    {
     "data": {
      "text/plain": [
       "2"
      ]
     },
     "execution_count": 48,
     "metadata": {},
     "output_type": "execute_result"
    }
   ],
   "source": [
    "X = ['a', 'b'] \n",
    "Y=['a', 'b']\n",
    "lcsDP(X, Y)"
   ]
  },
  {
   "cell_type": "markdown",
   "metadata": {},
   "source": [
    "More sanity checks"
   ]
  },
  {
   "cell_type": "code",
   "execution_count": 49,
   "metadata": {},
   "outputs": [
    {
     "name": "stdout",
     "output_type": "stream",
     "text": [
      "the table is:\n",
      "[0, 0, 0, 1, 0, 0]\n",
      "[1, 1, 1, 1, 0, 0]\n",
      "[1, 1, 2, 2, 0, 0]\n",
      "[1, 1, 2, 2, 3, 0]\n",
      "[0, 2, 2, 2, 3, 0]\n",
      "[0, 0, 0, 3, 0, 4]\n",
      "[0, 0, 0, 0, 4, 4]\n"
     ]
    },
    {
     "data": {
      "text/plain": [
       "4"
      ]
     },
     "execution_count": 49,
     "metadata": {},
     "output_type": "execute_result"
    }
   ],
   "source": [
    "X=['A','B','C','B','D','A','B']\n",
    "Y = ['B','D','C','A','B','A']\n",
    "lcsDP(X, Y)"
   ]
  },
  {
   "cell_type": "markdown",
   "metadata": {},
   "source": [
    "**Extending the solution to compute the actual LCS**"
   ]
  },
  {
   "cell_type": "markdown",
   "metadata": {},
   "source": [
    "Write another function that returns a longest common subsequence (not just its length). "
   ]
  },
  {
   "cell_type": "markdown",
   "metadata": {},
   "source": [
    " \n"
   ]
  }
 ],
 "metadata": {
  "kernelspec": {
   "display_name": "Python 3",
   "language": "python",
   "name": "python3"
  },
  "language_info": {
   "codemirror_mode": {
    "name": "ipython",
    "version": 3
   },
   "file_extension": ".py",
   "mimetype": "text/x-python",
   "name": "python",
   "nbconvert_exporter": "python",
   "pygments_lexer": "ipython3",
   "version": "3.8.5"
  }
 },
 "nbformat": 4,
 "nbformat_minor": 4
}
