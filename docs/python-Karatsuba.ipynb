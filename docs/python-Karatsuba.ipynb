{
 "cells": [
  {
   "cell_type": "markdown",
   "metadata": {},
   "source": [
    "**Credit:** Laura Toma, March 2022.  Adapted from CS161-MIT (originally developed by Mary Wotters and modified by Nima Anari, Moses Charikar, etc)"
   ]
  },
  {
   "cell_type": "markdown",
   "metadata": {},
   "source": [
    "# Divide-and-conquer example: Integer multiplication\n",
    "\n",
    "In this notebook we implement the three algorithms  discussed in class for multiplying integers: middle-school algorithm, quadratic divide-and-conquer, and Karatsuba. \n",
    "\n",
    "**Goal:** Multiply two n-digit integers. \n"
   ]
  },
  {
   "cell_type": "markdown",
   "metadata": {},
   "source": [
    "\n",
    "In our implementation we'll exploit  that Python can handle arbitrarily large integers.  Try for example: "
   ]
  },
  {
   "cell_type": "code",
   "execution_count": 1,
   "metadata": {},
   "outputs": [
    {
     "data": {
      "text/plain": [
       "114813069527425452423283320117768198402231770208869520047764273682576626139237031385665948631650626991844596463898746277344711896086305533142593135616665318539129989145312280000688779148240044871428926990063486244781615463646388363947317026040466353970904996558162398808944629605623311649536164221970332681344168908984458505602379484807914058900934776500429002716706625830522008132236281291761267883317206598995396418127021779858404042159853183251540889433902091920554957783589672039160081957216630582755380425583726015528348786419432054508915275783882625175435528800822842770817965453762184851149029376"
      ]
     },
     "execution_count": 1,
     "metadata": {},
     "output_type": "execute_result"
    }
   ],
   "source": [
    "2**2000\n"
   ]
  },
  {
   "cell_type": "markdown",
   "metadata": {},
   "source": [
    "Python represents large integers as a list of their digits and uses a library to perform operations on them. For multiplication, it uses Karatsuba's algorithm, actually. "
   ]
  },
  {
   "cell_type": "markdown",
   "metadata": {},
   "source": [
    "\n",
    "**The rules:** In our implementation we are allowed to use Python's built-in multiplication to do one-digit multiplications (eg, 6 times 7), but not any other multiplication (eg, 66 times 77).  We are allowed to use Python's built-in addition (even of large numbers).\n",
    "\n",
    "We start by writing some helper functions."
   ]
  },
  {
   "cell_type": "markdown",
   "metadata": {},
   "source": [
    "### Helper functions"
   ]
  },
  {
   "cell_type": "code",
   "execution_count": 2,
   "metadata": {},
   "outputs": [
    {
     "name": "stdout",
     "output_type": "stream",
     "text": [
      "[2, 3, 1, 5]\n",
      "2315\n"
     ]
    }
   ],
   "source": [
    "\n",
    "# takes an integer x and returns a list of digits in x, most significant first\n",
    "def getDigits(x): \n",
    "    return [ int(a) for a in str(x) ]\n",
    "\n",
    "# takes a list of digits (as returned by getDigits) and returns the integer they represent\n",
    "def makeInt(digits): \n",
    "    return sum( [ 10**(len(digits)-i-1)*digits[i] for i in range(len(digits))])\n",
    "\n",
    "\n",
    "\n",
    "##let's see how this works \n",
    "a = 2315\n",
    "alist = getDigits(a)\n",
    "print(alist)\n",
    "\n",
    "avalue=makeInt(alist)\n",
    "print(avalue)\n"
   ]
  },
  {
   "cell_type": "markdown",
   "metadata": {},
   "source": [
    "Create your own example here and check that it works "
   ]
  },
  {
   "cell_type": "markdown",
   "metadata": {},
   "source": [
    "### Algorithm 1:  grade-school multiplication.\n",
    "\n",
    "This is probably (equivalent to) the algorithm you learned in middle school."
   ]
  },
  {
   "cell_type": "code",
   "execution_count": 3,
   "metadata": {},
   "outputs": [],
   "source": [
    "# @param takes as input two n-digit integers\n",
    "# @return the value that represents their product\n",
    "# algorithm: look at each pair of digits, and add them up with appropriate shifts.\n",
    "def gradeSchoolMult( X, Y ): # X and Y are integers\n",
    "    x = getDigits(X)\n",
    "    y = getDigits(Y)\n",
    "    #print(\"GradeSchoolMultiply:\")\n",
    "    #print(\"\\tx=:\", x)\n",
    "    #print (\"\\ty=:\", y)    \n",
    "    \n",
    "    #every time we multiply Y with a digit in X, we'll append the resulting integer\n",
    "    #to the list sumands \n",
    "    summands = [] \n",
    "    \n",
    "    for yDigit in range(len(y)):\n",
    "        #initially we want the right most digit of y, moving to the left \n",
    "        currentYDigit = y[len(y) - yDigit -1]\n",
    "        \n",
    "        # z is the result, it will hold the digits of yDigit * X; \n",
    "        # start it out with some zeros\n",
    "        z = [0 for i in range(yDigit)] \n",
    "        \n",
    "        carry = 0\n",
    "        for xDigit in range(len(x)):\n",
    "            #initially this is right most digit of X, moving to the left \n",
    "            currentXDigit = x[len(x) - xDigit - 1]\n",
    "\n",
    "            #multiply the current digits in X and Y \n",
    "            newProd = getDigits( currentXDigit * currentYDigit + carry )\n",
    "           \n",
    "            # put the new digit at the front of the result z\n",
    "            z.insert( 0, newProd[-1] ) \n",
    "          \n",
    "            # handle the carry \n",
    "            if len(newProd) > 1:\n",
    "                carry = newProd[0]\n",
    "            else:\n",
    "                carry = 0\n",
    "        \n",
    "        # when we are done multiply Y with the currentXDigit, insert the final carry at the beginning \n",
    "        z.insert(0, carry)\n",
    "        #print(\"yDigit=\", yDigit, \": currentYDigit=\", currentYDigit,  \"z=\", z)\n",
    "        \n",
    "        #claim: z represents the result of Y x currentXdigit \n",
    "        summands.append(makeInt(z))\n",
    "        \n",
    "    return sum(summands) # finally add them all together\n"
   ]
  },
  {
   "cell_type": "markdown",
   "metadata": {},
   "source": [
    "Let's check that it works: "
   ]
  },
  {
   "cell_type": "code",
   "execution_count": 4,
   "metadata": {},
   "outputs": [
    {
     "name": "stdout",
     "output_type": "stream",
     "text": [
      "8078036681588809973133584427786\n"
     ]
    }
   ],
   "source": [
    "## NOTE: when testing your own code, you'd want to do much more thorough tests!  \n",
    "\n",
    "X = 1234567234934567\n",
    "Y = 6543213243478758\n",
    "print(gradeSchoolMult(X,Y))\n"
   ]
  },
  {
   "cell_type": "markdown",
   "metadata": {},
   "source": [
    "Since Python can  handle large numbers, we can use it to test our result: \n"
   ]
  },
  {
   "cell_type": "code",
   "execution_count": 5,
   "metadata": {},
   "outputs": [
    {
     "name": "stdout",
     "output_type": "stream",
     "text": [
      "8078036681588809973133584427786\n"
     ]
    }
   ],
   "source": [
    "print(X*Y)\n"
   ]
  },
  {
   "cell_type": "markdown",
   "metadata": {},
   "source": [
    "### Algorithm 2: Naive Divide-and-conquer\n",
    "\n",
    "This algorithm breaks one size-n multiplication into four size n/2 multiplications, and recurses."
   ]
  },
  {
   "cell_type": "code",
   "execution_count": 6,
   "metadata": {},
   "outputs": [],
   "source": [
    "# @param takes as input two n-digit integers\n",
    "# @return the value that represents their product\n",
    "def divideAndConquerMult( X, Y ):\n",
    "    return divideAndConquerMult_helper( getDigits(X), getDigits(Y) )\n",
    "\n",
    "def divideAndConquerMult_helper( x, y ):\n",
    "    n = max( len(x), len(y) )\n",
    "    # pad the shorter one with zeros until it's the same length\n",
    "    while len(x) < n:\n",
    "        x.insert(0,0)\n",
    "    while len(y) < n:\n",
    "        y.insert(0,0)\n",
    "       \n",
    "    #print(\"Naive-D&C-Multiply:\")\n",
    "    #print(\"\\tx=:\", x)\n",
    "    #print (\"\\ty=:\", y)    \n",
    "\n",
    "    # this is the base case: multiplying one-digit integers\n",
    "    if n == 1:\n",
    "        return x[0]*y[0] \n",
    "    \n",
    "    # else: \n",
    "    mid = round(n/2)\n",
    "    xhigh = x[:mid] # this is [ x[0], x[1], ..., x[mid-1] ]; denoted A' in notes \n",
    "    xlow = x[mid:] # this is [ x[mid], ..., x[n-1] ]; denoted A\" in notes \n",
    "    yhigh = y[:mid] #denoted B' in notes  \n",
    "    ylow = y[mid:]  #denoted B\" in notes \n",
    "\n",
    "    #compute the four products recursively \n",
    "    highhigh = divideAndConquerMult_helper( xhigh , yhigh )\n",
    "    highlow = divideAndConquerMult_helper( xhigh , ylow )\n",
    "    lowlow = divideAndConquerMult_helper( xlow , ylow )\n",
    "    lowhigh = divideAndConquerMult_helper( xlow , yhigh )\n",
    "    \n",
    "    \n",
    "    # xy  = highhigh*10^n + (lowhigh+highlow)*10^n/2 + lowlow\n",
    "    # note: the formula above is for n=even;  \n",
    "    # when n is odd, note that the length of xlow is n-mid, so we must multiply xhigh with 10^(n-mid)\n",
    "    # instead of 10^n we get 10^(2*(n - mid))\n",
    "    HH = getDigits(highhigh) + [ 0 for i in range(2*(n - mid))]\n",
    "    MID = getDigits(lowhigh + highlow) + [0 for i in range(n-mid)]\n",
    "    LL = getDigits(lowlow)\n",
    "    \n",
    "    result = makeInt(HH) + makeInt(MID) + makeInt(LL)\n",
    "    return result"
   ]
  },
  {
   "cell_type": "markdown",
   "metadata": {},
   "source": [
    "Note that the way we implemented the function above, we let Python add HH, MID and LL. \n",
    "\n",
    "Let's check that it works. "
   ]
  },
  {
   "cell_type": "code",
   "execution_count": 7,
   "metadata": {},
   "outputs": [
    {
     "name": "stdout",
     "output_type": "stream",
     "text": [
      "8078044443380143972967392515\n"
     ]
    }
   ],
   "source": [
    "X = 1234567435545\n",
    "Y = 6543218467295867\n",
    "print(divideAndConquerMult(X,Y))"
   ]
  },
  {
   "cell_type": "markdown",
   "metadata": {},
   "source": [
    "Python can multiply large numbers, so it should give same result: "
   ]
  },
  {
   "cell_type": "code",
   "execution_count": 8,
   "metadata": {},
   "outputs": [
    {
     "name": "stdout",
     "output_type": "stream",
     "text": [
      "8078044443380143972967392515\n"
     ]
    }
   ],
   "source": [
    "print(X*Y)"
   ]
  },
  {
   "cell_type": "markdown",
   "metadata": {},
   "source": [
    "### Algorithm 3:  Karatsuba multiplication\n",
    "\n",
    "The previous algorithms ended up both using about n^2 operations.  Karatsuba multiplication is also a divide-and-conquer approach, but turns one multiplication of size n into three multiplications of size n/2."
   ]
  },
  {
   "cell_type": "code",
   "execution_count": 9,
   "metadata": {},
   "outputs": [],
   "source": [
    "# @param two n-digit integers\n",
    "# @return the value that represents their product\n",
    "def karatsuba( X, Y ):\n",
    "    return karatsuba_helper( getDigits(X), getDigits(Y))\n",
    "\n",
    "def karatsuba_helper( x, y ):  \n",
    "    n = max( len(x), len(y) )\n",
    "    # pad the shorter one with zeros until it's the same length\n",
    "    while len(x) < n:\n",
    "        x.insert(0,0)\n",
    "    while len(y) < n:\n",
    "        y.insert(0,0)\n",
    "        \n",
    "    # this is the base case: multiplying 1-digit integers\n",
    "    if n == 1:\n",
    "        return x[0]*y[0] \n",
    "    \n",
    "    mid = round(n/2)\n",
    "    xhigh = x[:mid] # this is [ x[0], x[1], ..., x[mid-1] ], denoted by A' in notes \n",
    "    xlow = x[mid:]  # this is [ x[mid], ..., x[n-1] ], denoted by A\" in notes \n",
    "    yhigh = y[:mid] # B'\n",
    "    ylow = y[mid:]  # B\"\n",
    "    \n",
    "    # z1= A'B'\n",
    "    z1 = karatsuba_helper( xhigh , yhigh )\n",
    "    \n",
    "    # z2= A\" B\"\n",
    "    z2 = karatsuba_helper( xlow , ylow )\n",
    "    \n",
    "    # z3 = (A'+A\")x (B'+B\") - z1 - z2\n",
    "    z3 = karatsuba_helper(getDigits( makeInt(xlow) + makeInt(xhigh) ) , \n",
    "                          getDigits( makeInt(ylow) + makeInt(yhigh) ) )\n",
    "    z3 -=  z1 + z2 # this is equal to highlow + lowhigh in divideAndConquerMult1\n",
    "   \n",
    "   # same as before \n",
    "    HH = getDigits(z1) + [ 0 for i in range(2*(n - mid))]\n",
    "    MID = getDigits(z3) + [0 for i in range(n-mid)]\n",
    "    LL = getDigits(z2)\n",
    "    \n",
    "    result = makeInt(HH) + makeInt(MID) + makeInt(LL)\n",
    "    return result"
   ]
  },
  {
   "cell_type": "code",
   "execution_count": 10,
   "metadata": {},
   "outputs": [
    {
     "name": "stdout",
     "output_type": "stream",
     "text": [
      "807803114007\n",
      "807803114007\n"
     ]
    }
   ],
   "source": [
    "# make sure it works on an example:\n",
    "\n",
    "X = 1234567\n",
    "Y = 654321\n",
    "print(karatsuba(X,Y))\n",
    "print(X*Y)"
   ]
  },
  {
   "cell_type": "markdown",
   "metadata": {},
   "source": [
    "# Empirical evaluation of the algorithms"
   ]
  },
  {
   "cell_type": "markdown",
   "metadata": {},
   "source": [
    "Now let's see how the algorithms compare in practice!  \n",
    "We'll try each algorithm a bunch of times and graph it.  \n"
   ]
  },
  {
   "cell_type": "code",
   "execution_count": 11,
   "metadata": {},
   "outputs": [],
   "source": [
    "# set up matplotlib, for plotting stuff.\n",
    "%matplotlib inline\n",
    "import matplotlib\n",
    "import numpy as np\n",
    "import matplotlib.pyplot as plt"
   ]
  },
  {
   "cell_type": "code",
   "execution_count": 12,
   "metadata": {},
   "outputs": [],
   "source": [
    "import time\n",
    "from random import choice\n",
    "\n",
    "# multABunch: runs a multiplication function a bunch, and times how long it takes.\n",
    "#\n",
    "# Input: myFn: a function which takes as input two n-digit integers\n",
    "#              (Notice that in python you can pass a function as input!)\n",
    "#        nVals: list of n values to test at\n",
    "#        note: the arguments for myFun will be generated randomly, two n-digit numbers of length n\n",
    "# Output: lists nValues and tValues so that running myFn on a list of length nValues[i] \n",
    "#         took (on average over numTrials tests)  tValues[i] milliseconds.\n",
    "#\n",
    "# Optional arg:\n",
    "#        numTrials: for each n tests, do numTrials tests and average them\n",
    "def multABunch(myFn, nVals, numTrials=20):\n",
    "    nValues = []\n",
    "    tValues = []\n",
    "    for n in nVals:\n",
    "        # run myFn several times and average to get a decent idea.\n",
    "        runtime = 0\n",
    "        for t in range(numTrials):\n",
    "            lst1 = [ choice(range(10)) for i in range(n) ] # generate a random list of length n\n",
    "            lst2 = [ choice(range(10)) for i in range(n) ] # generate another random list of length n\n",
    "            #convert each random list into a random large int    \n",
    "            X = makeInt(lst1)\n",
    "            Y = makeInt(lst2)\n",
    "            start = time.time()\n",
    "            myFn( X, Y )\n",
    "            end = time.time()\n",
    "            runtime += (end - start) * 1000 # measure in milliseconds\n",
    "        runtime = runtime/numTrials\n",
    "        nValues.append(n)\n",
    "        tValues.append(runtime)\n",
    "    return nValues, tValues\n",
    "\n"
   ]
  },
  {
   "cell_type": "markdown",
   "metadata": {},
   "source": [
    "Let's test that this works. "
   ]
  },
  {
   "cell_type": "markdown",
   "metadata": {},
   "source": [
    "Running Algorithm1: \n"
   ]
  },
  {
   "cell_type": "code",
   "execution_count": 13,
   "metadata": {},
   "outputs": [
    {
     "name": "stdout",
     "output_type": "stream",
     "text": [
      "[0, 50, 100, 150, 200, 250, 300, 350, 400, 450, 500, 550, 600, 650, 700]\n"
     ]
    }
   ],
   "source": [
    "# Generate the list of n values on which we'll test \n",
    "nVals = [k*50 for k in range(15)]\n",
    "print(nVals)\n"
   ]
  },
  {
   "cell_type": "code",
   "execution_count": 14,
   "metadata": {},
   "outputs": [
    {
     "data": {
      "text/plain": [
       "Text(0.5, 1.0, 'Multiplying n-digit integers')"
      ]
     },
     "execution_count": 14,
     "metadata": {},
     "output_type": "execute_result"
    },
    {
     "data": {
      "image/png": "[encoded data removed]",
      "text/plain": [
       "<Figure size 432x288 with 1 Axes>"
      ]
     },
     "metadata": {
      "needs_background": "light"
     },
     "output_type": "display_data"
    }
   ],
   "source": [
    "# run gradeSchoolMult a bunch of times \n",
    "nValsGS, tValsGS = multABunch(gradeSchoolMult, nVals, numTrials=5)\n",
    "\n",
    "#plot the running times  \n",
    "plt.plot(nValsGS, tValsGS, color=\"red\", label=\"Algorithm 1: Grade School Mult.\")\n",
    "plt.xlabel(\"n\")\n",
    "plt.ylabel(\"Time(ms)\")\n",
    "plt.legend()\n",
    "plt.title(\"Multiplying n-digit integers\")\n"
   ]
  },
  {
   "cell_type": "markdown",
   "metadata": {},
   "source": [
    "Now running the second algorithm: "
   ]
  },
  {
   "cell_type": "code",
   "execution_count": 15,
   "metadata": {},
   "outputs": [
    {
     "data": {
      "text/plain": [
       "Text(0.5, 1.0, 'Multiplying n-digit integers')"
      ]
     },
     "execution_count": 15,
     "metadata": {},
     "output_type": "execute_result"
    },
    {
     "data": {
      "image/png": "[encoded data removed]",
      "text/plain": [
       "<Figure size 432x288 with 1 Axes>"
      ]
     },
     "metadata": {
      "needs_background": "light"
     },
     "output_type": "display_data"
    }
   ],
   "source": [
    "# run Algorithm2 a bunch of times \n",
    "nValsRec, tValsRec = multABunch(divideAndConquerMult, nVals, numTrials=5)\n",
    "\n",
    "#plot the running times \n",
    "plt.plot(nValsGS, tValsGS, color=\"red\", label=\"Algorithm1: Grade School Mult\")\n",
    "plt.plot(nValsRec, tValsRec, color=\"blue\", label=\"Algorithm 2: Divide and Conquer\")\n",
    "plt.xlabel(\"n\")\n",
    "plt.ylabel(\"Time(ms)\")\n",
    "plt.legend()\n",
    "plt.title(\"Multiplying n-digit integers\")"
   ]
  },
  {
   "cell_type": "markdown",
   "metadata": {},
   "source": [
    "As we expected, they are both quadratic.  We knew that from the theoretical analysis. \n",
    "It makes sense that the divide-and-conquer is slower because it has the overhead of recursion. \n",
    "\n",
    "And there's definitely something weird going on at powers of two in the divide-and-conquer implementation above.  "
   ]
  },
  {
   "cell_type": "markdown",
   "metadata": {},
   "source": [
    "Now Karatsuba: "
   ]
  },
  {
   "cell_type": "code",
   "execution_count": 17,
   "metadata": {},
   "outputs": [
    {
     "data": {
      "text/plain": [
       "Text(0.5, 1.0, 'Multiplying n-digit integers')"
      ]
     },
     "execution_count": 17,
     "metadata": {},
     "output_type": "execute_result"
    },
    {
     "data": {
      "image/png": "[encoded data removed]",
      "text/plain": [
       "<Figure size 432x288 with 1 Axes>"
      ]
     },
     "metadata": {
      "needs_background": "light"
     },
     "output_type": "display_data"
    }
   ],
   "source": [
    "# run Algorithm3 a bunch of times \n",
    "nValsKarat, tValsKarat = multABunch(karatsuba, nVals, numTrials=5)\n",
    "\n",
    "#plot the running times \n",
    "plt.plot(nValsGS, tValsGS, color=\"red\", label=\"Algorithm1: Grade School Mult\")\n",
    "plt.plot(nValsRec, tValsRec, color=\"blue\", label=\"Algorithm 2: Divide and Conquer\")\n",
    "plt.plot(nValsKarat, tValsKarat, color=\"orange\", label=\"Algorithm3: Karatsuba\")\n",
    "plt.xlabel(\"n\")\n",
    "plt.ylabel(\"Time(ms)\")\n",
    "plt.legend()\n",
    "plt.title(\"Multiplying n-digit integers\")"
   ]
  },
  {
   "cell_type": "markdown",
   "metadata": {},
   "source": [
    "Clearly the winner! which we knew, based on the theoretical analysis. "
   ]
  },
  {
   "cell_type": "markdown",
   "metadata": {},
   "source": [
    "## Applications\n",
    "\n",
    "\n",
    "While preparing this, I learnt about the library called \"gmp\" (Gnu multiple precision arithmetic library), https://gmplib.org/\n",
    "\n",
    "The main target applications for GMP are cryptography applications and research, Internet security applications, algebra systems, computational algebra research, etc.\n",
    "\n",
    "_GMP is carefully designed to be as fast as possible, both for small operands and for huge operands. The speed is achieved by ... using fast algorithms, with highly optimised assembly code for the most common inner loops for a lot of CPUs, and by a general emphasis on speed._\n",
    "\n",
    "Check out the multiplication algorithms doc: \n",
    "\n",
    "https://gmplib.org/manual/Multiplication-Algorithms#Multiplication-Algorithms\n",
    "\n",
    "It implements the grade-school  multiplication algorithm, Karatsuba, and five additional algorithms that are faster than Karatsuba on  large n. It chooses one of these algorithms based on the value of n: for small n it uses the quadratic, for larger n it uses Karatsuba, and for very large n it uses one of the other ones ---- it has empirically established theresholds for the value of n when switching from one algorithm to the next.  \n",
    "    "
   ]
  },
  {
   "cell_type": "code",
   "execution_count": null,
   "metadata": {},
   "outputs": [],
   "source": []
  }
 ],
 "metadata": {
  "kernelspec": {
   "display_name": "Python 3",
   "language": "python",
   "name": "python3"
  },
  "language_info": {
   "codemirror_mode": {
    "name": "ipython",
    "version": 3
   },
   "file_extension": ".py",
   "mimetype": "text/x-python",
   "name": "python",
   "nbconvert_exporter": "python",
   "pygments_lexer": "ipython3",
   "version": "3.8.5"
  }
 },
 "nbformat": 4,
 "nbformat_minor": 4
}
