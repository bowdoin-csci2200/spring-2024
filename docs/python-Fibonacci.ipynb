{
 "cells": [
  {
   "cell_type": "markdown",
   "metadata": {},
   "source": [
    "**Credit:** Laura Toma, March 2021. Inspired by CS161-MIT (originally developed by Mary Wotters and modified by Nima Anari, Moses Charikar, etc) "
   ]
  },
  {
   "cell_type": "markdown",
   "metadata": {},
   "source": [
    "# Dynamic programming"
   ]
  },
  {
   "cell_type": "markdown",
   "metadata": {},
   "source": [
    "## Example 1: Fibonacci numbers"
   ]
  },
  {
   "cell_type": "markdown",
   "metadata": {},
   "source": [
    "Consider the Fibonacci numbers, defined by \n",
    "\n",
    "F(0) = F(1) = 1\n",
    "\n",
    "and \n",
    "\n",
    "F(n) = F(n1) + F(n-2), for any n > 1\n"
   ]
  },
  {
   "cell_type": "markdown",
   "metadata": {},
   "source": [
    "For examples, the first several Fibonacci numbers are: \n",
    "\n",
    "1, 1, 2, 3, 5, 8, 13, 21, 34, 55, 89, ..."
   ]
  },
  {
   "cell_type": "markdown",
   "metadata": {},
   "source": [
    "Let's write a function that computes and returns the n-th Fibonacci number. "
   ]
  },
  {
   "cell_type": "code",
   "execution_count": 1,
   "metadata": {},
   "outputs": [],
   "source": [
    "\n",
    "# takes an integer n and returns the n-th Fibonacci number \n",
    "def Fibonacci(n): \n",
    "    if n==0 or n==1: \n",
    "        return 1\n",
    "    return Fibonacci(n-1) + Fibonacci(n-2)\n"
   ]
  },
  {
   "cell_type": "markdown",
   "metadata": {},
   "source": [
    "Let's do a sanity check: "
   ]
  },
  {
   "cell_type": "code",
   "execution_count": 2,
   "metadata": {},
   "outputs": [
    {
     "name": "stdout",
     "output_type": "stream",
     "text": [
      "Fibonacci( 0 )= 1\n",
      "Fibonacci( 1 )= 1\n",
      "Fibonacci( 2 )= 2\n",
      "Fibonacci( 3 )= 3\n",
      "Fibonacci( 4 )= 5\n",
      "Fibonacci( 5 )= 8\n",
      "Fibonacci( 6 )= 13\n",
      "Fibonacci( 7 )= 21\n",
      "Fibonacci( 8 )= 34\n",
      "Fibonacci( 9 )= 55\n"
     ]
    }
   ],
   "source": [
    "for i in range(10): \n",
    "    print(\"Fibonacci(\", i, \")=\", Fibonacci(i))"
   ]
  },
  {
   "cell_type": "markdown",
   "metadata": {},
   "source": [
    "Try computing Fibonacci(20), Fibonacci(50), Fibonacci(100). \n",
    "What do you notice? Can you explain it?"
   ]
  },
  {
   "cell_type": "markdown",
   "metadata": {},
   "source": [
    "What is the running time of Fibonacci(n)? \n",
    "First, derive it theoretically , then, let's see it empirically. "
   ]
  },
  {
   "cell_type": "code",
   "execution_count": 3,
   "metadata": {},
   "outputs": [],
   "source": [
    "# set up matplotlib, for plotting stuff.\n",
    "%matplotlib inline\n",
    "import matplotlib\n",
    "import numpy as np\n",
    "import matplotlib.pyplot as plt"
   ]
  },
  {
   "cell_type": "code",
   "execution_count": 4,
   "metadata": {},
   "outputs": [],
   "source": [
    "import time\n",
    "from random import choice\n",
    "\n",
    "# runIt: runs myFun function a bunch, and times how long it takes.\n",
    "#\n",
    "# Input: myFn: a function which takes as input an  integer\n",
    "#        n: myFun is run on 1, 2, 3, ..., n\n",
    "#       \n",
    "# Returns: nValues, tValues, where running myFun with argument nValues[i] took  tValues[i] milliseconds.\n",
    "#\n",
    "def runIt(myFun, n):\n",
    "    nValues = []\n",
    "    tValues = []\n",
    "    for k in range(n):\n",
    "        # run myFn several times and average to get a decent idea.\n",
    "        start = time.time()\n",
    "        myFun(k)\n",
    "        end = time.time()\n",
    "        runtime = (end - start) * 1000 # measure in milliseconds\n",
    "        nValues.append(k)\n",
    "        tValues.append(runtime)\n",
    "    return nValues, tValues\n",
    "\n"
   ]
  },
  {
   "cell_type": "markdown",
   "metadata": {},
   "source": [
    " \n"
   ]
  },
  {
   "cell_type": "code",
   "execution_count": 5,
   "metadata": {},
   "outputs": [
    {
     "data": {
      "text/plain": [
       "Text(0.5, 1.0, 'Fibonacci numbers')"
      ]
     },
     "execution_count": 5,
     "metadata": {},
     "output_type": "execute_result"
    },
    {
     "data": {
      "image/png": "[encoded data removed]",
      "text/plain": [
       "<Figure size 432x288 with 1 Axes>"
      ]
     },
     "metadata": {
      "needs_background": "light"
     },
     "output_type": "display_data"
    }
   ],
   "source": [
    "# run Fibonacci \n",
    "nValues, tValues = runIt(Fibonacci, 30)\n",
    "\n",
    "#plot the running times  \n",
    "plt.plot(nValues, tValues, color=\"red\", label=\"Fibonacci: recursive\")\n",
    "plt.xlabel(\"n\")\n",
    "plt.ylabel(\"Time(ms)\")\n",
    "plt.legend()\n",
    "plt.title(\"Fibonacci numbers\")\n"
   ]
  },
  {
   "cell_type": "markdown",
   "metadata": {},
   "source": [
    "## Fibonacci numbers with dynamic programming "
   ]
  },
  {
   "cell_type": "markdown",
   "metadata": {},
   "source": [
    "1. Write code below in order to compute the n-th Fibonacci number with dynamic programming, in two ways:  a. top down recursive; b. bottom up, without recursion\n",
    "2. Analyze the running time of your algorithms theoretically. \n",
    "3. Plot them and compare them with each other, and  with the recursive Fibonacci "
   ]
  },
  {
   "cell_type": "code",
   "execution_count": 6,
   "metadata": {},
   "outputs": [
    {
     "ename": "SyntaxError",
     "evalue": "unexpected EOF while parsing (<ipython-input-6-d063e0fe2b02>, line 10)",
     "output_type": "error",
     "traceback": [
      "\u001b[0;36m  File \u001b[0;32m\"<ipython-input-6-d063e0fe2b02>\"\u001b[0;36m, line \u001b[0;32m10\u001b[0m\n\u001b[0;31m    \u001b[0m\n\u001b[0m    ^\u001b[0m\n\u001b[0;31mSyntaxError\u001b[0m\u001b[0;31m:\u001b[0m unexpected EOF while parsing\n"
     ]
    }
   ],
   "source": [
    "# takes an integer n and returns the n-th Fibonacci number \n",
    "#a topdown DP approach \n",
    "def FibonacciDP_topdown(n): \n",
    "    \n",
    "    fib = [0 for i in range(n+1)]\n",
    "    return FibonacciDP_topdown_helper(n, fib)\n",
    "\n",
    "def FibonacciDP_topdown_helper(n, fib): \n",
    "    ##add your code here\n",
    "   "
   ]
  },
  {
   "cell_type": "code",
   "execution_count": null,
   "metadata": {},
   "outputs": [],
   "source": []
  },
  {
   "cell_type": "code",
   "execution_count": 7,
   "metadata": {},
   "outputs": [
    {
     "ename": "SyntaxError",
     "evalue": "unexpected EOF while parsing (<ipython-input-7-c7b7c753c8e9>, line 3)",
     "output_type": "error",
     "traceback": [
      "\u001b[0;36m  File \u001b[0;32m\"<ipython-input-7-c7b7c753c8e9>\"\u001b[0;36m, line \u001b[0;32m3\u001b[0m\n\u001b[0;31m    ##add your code here\u001b[0m\n\u001b[0m                         ^\u001b[0m\n\u001b[0;31mSyntaxError\u001b[0m\u001b[0;31m:\u001b[0m unexpected EOF while parsing\n"
     ]
    }
   ],
   "source": [
    "#a bottom-up approach without recursion \n",
    "def FibonacciDP_bottomup(n): \n",
    "    ##add your code here "
   ]
  },
  {
   "cell_type": "code",
   "execution_count": null,
   "metadata": {},
   "outputs": [],
   "source": []
  }
 ],
 "metadata": {
  "kernelspec": {
   "display_name": "Python 3",
   "language": "python",
   "name": "python3"
  },
  "language_info": {
   "codemirror_mode": {
    "name": "ipython",
    "version": 3
   },
   "file_extension": ".py",
   "mimetype": "text/x-python",
   "name": "python",
   "nbconvert_exporter": "python",
   "pygments_lexer": "ipython3",
   "version": "3.8.5"
  }
 },
 "nbformat": 4,
 "nbformat_minor": 4
}
